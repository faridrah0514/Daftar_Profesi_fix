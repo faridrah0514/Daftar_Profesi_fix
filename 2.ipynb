{
 "nbformat": 4,
 "nbformat_minor": 2,
 "metadata": {
  "language_info": {
   "name": "python",
   "codemirror_mode": {
    "name": "ipython",
    "version": 3
   },
   "version": "3.7.5"
  },
  "orig_nbformat": 2,
  "file_extension": ".py",
  "mimetype": "text/x-python",
  "name": "python",
  "npconvert_exporter": "python",
  "pygments_lexer": "ipython3",
  "version": 3
 },
 "cells": [
  {
   "cell_type": "code",
   "execution_count": 9,
   "metadata": {},
   "outputs": [],
   "source": [
    "import pandas as pd\n",
    "import numpy as np\n",
    "import seaborn as sns"
   ]
  },
  {
   "cell_type": "code",
   "execution_count": 10,
   "metadata": {},
   "outputs": [
    {
     "data": {
      "text/plain": "21"
     },
     "execution_count": 10,
     "metadata": {},
     "output_type": "execute_result"
    }
   ],
   "source": [
    "df = pd.read_csv('/Users/Farid/Dropbox/JCDS/Module 02/ujian/Soal 02/profesi.csv', delimiter='|')\n",
    "df['occupation'].nunique()"
   ]
  },
  {
   "cell_type": "code",
   "execution_count": 11,
   "metadata": {},
   "outputs": [
    {
     "data": {
      "text/plain": "['technician',\n 'other',\n 'writer',\n 'executive',\n 'administrator',\n 'student',\n 'lawyer',\n 'educator',\n 'scientist',\n 'entertainment',\n 'programmer',\n 'librarian',\n 'homemaker',\n 'artist',\n 'engineer',\n 'marketing',\n 'none',\n 'healthcare',\n 'retired',\n 'salesman',\n 'doctor']"
     },
     "execution_count": 11,
     "metadata": {},
     "output_type": "execute_result"
    }
   ],
   "source": [
    "list(df['occupation'].unique())"
   ]
  },
  {
   "cell_type": "code",
   "execution_count": 25,
   "metadata": {},
   "outputs": [
    {
     "data": {
      "text/html": "<div>\n<style scoped>\n    .dataframe tbody tr th:only-of-type {\n        vertical-align: middle;\n    }\n\n    .dataframe tbody tr th {\n        vertical-align: top;\n    }\n\n    .dataframe thead th {\n        text-align: right;\n    }\n</style>\n<table border=\"1\" class=\"dataframe\">\n  <thead>\n    <tr style=\"text-align: right;\">\n      <th></th>\n      <th></th>\n      <th>max_usia</th>\n      <th>min_usia</th>\n      <th>rerata_usia</th>\n    </tr>\n    <tr>\n      <th>occupation</th>\n      <th>gender</th>\n      <th></th>\n      <th></th>\n      <th></th>\n    </tr>\n  </thead>\n  <tbody>\n    <tr>\n      <th rowspan=\"2\" valign=\"top\">administrator</th>\n      <th>F</th>\n      <td>62.0</td>\n      <td>22.0</td>\n      <td>40.638889</td>\n    </tr>\n    <tr>\n      <th>M</th>\n      <td>70.0</td>\n      <td>21.0</td>\n      <td>37.162791</td>\n    </tr>\n    <tr>\n      <th rowspan=\"2\" valign=\"top\">artist</th>\n      <th>F</th>\n      <td>48.0</td>\n      <td>19.0</td>\n      <td>30.307692</td>\n    </tr>\n    <tr>\n      <th>M</th>\n      <td>45.0</td>\n      <td>20.0</td>\n      <td>32.333333</td>\n    </tr>\n    <tr>\n      <th>doctor</th>\n      <th>M</th>\n      <td>64.0</td>\n      <td>28.0</td>\n      <td>43.571429</td>\n    </tr>\n    <tr>\n      <th rowspan=\"2\" valign=\"top\">educator</th>\n      <th>F</th>\n      <td>51.0</td>\n      <td>23.0</td>\n      <td>39.115385</td>\n    </tr>\n    <tr>\n      <th>M</th>\n      <td>63.0</td>\n      <td>25.0</td>\n      <td>43.101449</td>\n    </tr>\n    <tr>\n      <th rowspan=\"2\" valign=\"top\">engineer</th>\n      <th>F</th>\n      <td>36.0</td>\n      <td>23.0</td>\n      <td>29.500000</td>\n    </tr>\n    <tr>\n      <th>M</th>\n      <td>70.0</td>\n      <td>22.0</td>\n      <td>36.600000</td>\n    </tr>\n    <tr>\n      <th rowspan=\"2\" valign=\"top\">entertainment</th>\n      <th>F</th>\n      <td>38.0</td>\n      <td>24.0</td>\n      <td>31.000000</td>\n    </tr>\n    <tr>\n      <th>M</th>\n      <td>50.0</td>\n      <td>15.0</td>\n      <td>29.000000</td>\n    </tr>\n    <tr>\n      <th rowspan=\"2\" valign=\"top\">executive</th>\n      <th>F</th>\n      <td>49.0</td>\n      <td>39.0</td>\n      <td>44.000000</td>\n    </tr>\n    <tr>\n      <th>M</th>\n      <td>69.0</td>\n      <td>22.0</td>\n      <td>38.172414</td>\n    </tr>\n    <tr>\n      <th rowspan=\"2\" valign=\"top\">healthcare</th>\n      <th>F</th>\n      <td>53.0</td>\n      <td>22.0</td>\n      <td>39.818182</td>\n    </tr>\n    <tr>\n      <th>M</th>\n      <td>62.0</td>\n      <td>28.0</td>\n      <td>45.400000</td>\n    </tr>\n    <tr>\n      <th rowspan=\"2\" valign=\"top\">homemaker</th>\n      <th>F</th>\n      <td>50.0</td>\n      <td>20.0</td>\n      <td>34.166667</td>\n    </tr>\n    <tr>\n      <th>M</th>\n      <td>23.0</td>\n      <td>23.0</td>\n      <td>23.000000</td>\n    </tr>\n    <tr>\n      <th rowspan=\"2\" valign=\"top\">lawyer</th>\n      <th>F</th>\n      <td>51.0</td>\n      <td>28.0</td>\n      <td>39.500000</td>\n    </tr>\n    <tr>\n      <th>M</th>\n      <td>53.0</td>\n      <td>21.0</td>\n      <td>36.200000</td>\n    </tr>\n    <tr>\n      <th rowspan=\"2\" valign=\"top\">librarian</th>\n      <th>F</th>\n      <td>59.0</td>\n      <td>26.0</td>\n      <td>40.000000</td>\n    </tr>\n    <tr>\n      <th>M</th>\n      <td>69.0</td>\n      <td>23.0</td>\n      <td>40.000000</td>\n    </tr>\n    <tr>\n      <th rowspan=\"2\" valign=\"top\">marketing</th>\n      <th>F</th>\n      <td>50.0</td>\n      <td>24.0</td>\n      <td>37.200000</td>\n    </tr>\n    <tr>\n      <th>M</th>\n      <td>55.0</td>\n      <td>24.0</td>\n      <td>37.875000</td>\n    </tr>\n    <tr>\n      <th rowspan=\"2\" valign=\"top\">none</th>\n      <th>F</th>\n      <td>55.0</td>\n      <td>26.0</td>\n      <td>36.500000</td>\n    </tr>\n    <tr>\n      <th>M</th>\n      <td>33.0</td>\n      <td>11.0</td>\n      <td>18.600000</td>\n    </tr>\n    <tr>\n      <th rowspan=\"2\" valign=\"top\">other</th>\n      <th>F</th>\n      <td>55.0</td>\n      <td>18.0</td>\n      <td>35.472222</td>\n    </tr>\n    <tr>\n      <th>M</th>\n      <td>64.0</td>\n      <td>13.0</td>\n      <td>34.028986</td>\n    </tr>\n    <tr>\n      <th rowspan=\"2\" valign=\"top\">programmer</th>\n      <th>F</th>\n      <td>38.0</td>\n      <td>26.0</td>\n      <td>32.166667</td>\n    </tr>\n    <tr>\n      <th>M</th>\n      <td>63.0</td>\n      <td>20.0</td>\n      <td>33.216667</td>\n    </tr>\n    <tr>\n      <th rowspan=\"2\" valign=\"top\">retired</th>\n      <th>F</th>\n      <td>70.0</td>\n      <td>70.0</td>\n      <td>70.000000</td>\n    </tr>\n    <tr>\n      <th>M</th>\n      <td>73.0</td>\n      <td>51.0</td>\n      <td>62.538462</td>\n    </tr>\n    <tr>\n      <th rowspan=\"2\" valign=\"top\">salesman</th>\n      <th>F</th>\n      <td>33.0</td>\n      <td>18.0</td>\n      <td>27.000000</td>\n    </tr>\n    <tr>\n      <th>M</th>\n      <td>66.0</td>\n      <td>21.0</td>\n      <td>38.555556</td>\n    </tr>\n    <tr>\n      <th rowspan=\"2\" valign=\"top\">scientist</th>\n      <th>F</th>\n      <td>31.0</td>\n      <td>26.0</td>\n      <td>28.333333</td>\n    </tr>\n    <tr>\n      <th>M</th>\n      <td>55.0</td>\n      <td>23.0</td>\n      <td>36.321429</td>\n    </tr>\n    <tr>\n      <th rowspan=\"2\" valign=\"top\">student</th>\n      <th>F</th>\n      <td>38.0</td>\n      <td>13.0</td>\n      <td>20.750000</td>\n    </tr>\n    <tr>\n      <th>M</th>\n      <td>42.0</td>\n      <td>7.0</td>\n      <td>22.669118</td>\n    </tr>\n    <tr>\n      <th rowspan=\"2\" valign=\"top\">technician</th>\n      <th>F</th>\n      <td>38.0</td>\n      <td>38.0</td>\n      <td>38.000000</td>\n    </tr>\n    <tr>\n      <th>M</th>\n      <td>55.0</td>\n      <td>21.0</td>\n      <td>32.961538</td>\n    </tr>\n    <tr>\n      <th rowspan=\"2\" valign=\"top\">writer</th>\n      <th>F</th>\n      <td>56.0</td>\n      <td>18.0</td>\n      <td>37.631579</td>\n    </tr>\n    <tr>\n      <th>M</th>\n      <td>60.0</td>\n      <td>21.0</td>\n      <td>35.346154</td>\n    </tr>\n  </tbody>\n</table>\n</div>",
      "text/plain": "                      max_usia  min_usia  rerata_usia\noccupation    gender                                 \nadministrator F           62.0      22.0    40.638889\n              M           70.0      21.0    37.162791\nartist        F           48.0      19.0    30.307692\n              M           45.0      20.0    32.333333\ndoctor        M           64.0      28.0    43.571429\neducator      F           51.0      23.0    39.115385\n              M           63.0      25.0    43.101449\nengineer      F           36.0      23.0    29.500000\n              M           70.0      22.0    36.600000\nentertainment F           38.0      24.0    31.000000\n              M           50.0      15.0    29.000000\nexecutive     F           49.0      39.0    44.000000\n              M           69.0      22.0    38.172414\nhealthcare    F           53.0      22.0    39.818182\n              M           62.0      28.0    45.400000\nhomemaker     F           50.0      20.0    34.166667\n              M           23.0      23.0    23.000000\nlawyer        F           51.0      28.0    39.500000\n              M           53.0      21.0    36.200000\nlibrarian     F           59.0      26.0    40.000000\n              M           69.0      23.0    40.000000\nmarketing     F           50.0      24.0    37.200000\n              M           55.0      24.0    37.875000\nnone          F           55.0      26.0    36.500000\n              M           33.0      11.0    18.600000\nother         F           55.0      18.0    35.472222\n              M           64.0      13.0    34.028986\nprogrammer    F           38.0      26.0    32.166667\n              M           63.0      20.0    33.216667\nretired       F           70.0      70.0    70.000000\n              M           73.0      51.0    62.538462\nsalesman      F           33.0      18.0    27.000000\n              M           66.0      21.0    38.555556\nscientist     F           31.0      26.0    28.333333\n              M           55.0      23.0    36.321429\nstudent       F           38.0      13.0    20.750000\n              M           42.0       7.0    22.669118\ntechnician    F           38.0      38.0    38.000000\n              M           55.0      21.0    32.961538\nwriter        F           56.0      18.0    37.631579\n              M           60.0      21.0    35.346154"
     },
     "execution_count": 25,
     "metadata": {},
     "output_type": "execute_result"
    }
   ],
   "source": [
    "# df['max'] = df['age'].max()\n",
    "# pd.crosstab([df['occupation'],df['gender']],columns=df['age'])\n",
    "# df\n",
    "# pd.crosstab(index=[df['occupation'],df['gender']], columns=df['age'], margins=True)\n",
    "new_df=df.groupby([df['occupation'],df['gender']])\n",
    "new_df=new_df.describe()['age']\n",
    "new_df=new_df[['max','min','mean']]\n",
    "new_df.rename(columns={'max':'max_usia','min':'min_usia','mean':'rerata_usia'},inplace=True)\n",
    "new_df"
   ]
  },
  {
   "cell_type": "code",
   "execution_count": 31,
   "metadata": {},
   "outputs": [
    {
     "data": {
      "text/html": "<div>\n<style scoped>\n    .dataframe tbody tr th:only-of-type {\n        vertical-align: middle;\n    }\n\n    .dataframe tbody tr th {\n        vertical-align: top;\n    }\n\n    .dataframe thead th {\n        text-align: right;\n    }\n</style>\n<table border=\"1\" class=\"dataframe\">\n  <thead>\n    <tr style=\"text-align: right;\">\n      <th>gender</th>\n      <th>%male</th>\n      <th>%female</th>\n      <th>%total</th>\n    </tr>\n    <tr>\n      <th>occupation</th>\n      <th></th>\n      <th></th>\n      <th></th>\n    </tr>\n  </thead>\n  <tbody>\n    <tr>\n      <th>administrator</th>\n      <td>54.430380</td>\n      <td>45.569620</td>\n      <td>100.0</td>\n    </tr>\n    <tr>\n      <th>artist</th>\n      <td>53.571429</td>\n      <td>46.428571</td>\n      <td>100.0</td>\n    </tr>\n    <tr>\n      <th>doctor</th>\n      <td>100.000000</td>\n      <td>0.000000</td>\n      <td>100.0</td>\n    </tr>\n    <tr>\n      <th>educator</th>\n      <td>72.631579</td>\n      <td>27.368421</td>\n      <td>100.0</td>\n    </tr>\n    <tr>\n      <th>engineer</th>\n      <td>97.014925</td>\n      <td>2.985075</td>\n      <td>100.0</td>\n    </tr>\n    <tr>\n      <th>entertainment</th>\n      <td>88.888889</td>\n      <td>11.111111</td>\n      <td>100.0</td>\n    </tr>\n    <tr>\n      <th>executive</th>\n      <td>90.625000</td>\n      <td>9.375000</td>\n      <td>100.0</td>\n    </tr>\n    <tr>\n      <th>healthcare</th>\n      <td>31.250000</td>\n      <td>68.750000</td>\n      <td>100.0</td>\n    </tr>\n    <tr>\n      <th>homemaker</th>\n      <td>14.285714</td>\n      <td>85.714286</td>\n      <td>100.0</td>\n    </tr>\n    <tr>\n      <th>lawyer</th>\n      <td>83.333333</td>\n      <td>16.666667</td>\n      <td>100.0</td>\n    </tr>\n    <tr>\n      <th>librarian</th>\n      <td>43.137255</td>\n      <td>56.862745</td>\n      <td>100.0</td>\n    </tr>\n    <tr>\n      <th>marketing</th>\n      <td>61.538462</td>\n      <td>38.461538</td>\n      <td>100.0</td>\n    </tr>\n    <tr>\n      <th>none</th>\n      <td>55.555556</td>\n      <td>44.444444</td>\n      <td>100.0</td>\n    </tr>\n    <tr>\n      <th>other</th>\n      <td>65.714286</td>\n      <td>34.285714</td>\n      <td>100.0</td>\n    </tr>\n    <tr>\n      <th>programmer</th>\n      <td>90.909091</td>\n      <td>9.090909</td>\n      <td>100.0</td>\n    </tr>\n    <tr>\n      <th>retired</th>\n      <td>92.857143</td>\n      <td>7.142857</td>\n      <td>100.0</td>\n    </tr>\n    <tr>\n      <th>salesman</th>\n      <td>75.000000</td>\n      <td>25.000000</td>\n      <td>100.0</td>\n    </tr>\n    <tr>\n      <th>scientist</th>\n      <td>90.322581</td>\n      <td>9.677419</td>\n      <td>100.0</td>\n    </tr>\n    <tr>\n      <th>student</th>\n      <td>69.387755</td>\n      <td>30.612245</td>\n      <td>100.0</td>\n    </tr>\n    <tr>\n      <th>technician</th>\n      <td>96.296296</td>\n      <td>3.703704</td>\n      <td>100.0</td>\n    </tr>\n    <tr>\n      <th>writer</th>\n      <td>57.777778</td>\n      <td>42.222222</td>\n      <td>100.0</td>\n    </tr>\n  </tbody>\n</table>\n</div>",
      "text/plain": "gender              %male    %female  %total\noccupation                                  \nadministrator   54.430380  45.569620   100.0\nartist          53.571429  46.428571   100.0\ndoctor         100.000000   0.000000   100.0\neducator        72.631579  27.368421   100.0\nengineer        97.014925   2.985075   100.0\nentertainment   88.888889  11.111111   100.0\nexecutive       90.625000   9.375000   100.0\nhealthcare      31.250000  68.750000   100.0\nhomemaker       14.285714  85.714286   100.0\nlawyer          83.333333  16.666667   100.0\nlibrarian       43.137255  56.862745   100.0\nmarketing       61.538462  38.461538   100.0\nnone            55.555556  44.444444   100.0\nother           65.714286  34.285714   100.0\nprogrammer      90.909091   9.090909   100.0\nretired         92.857143   7.142857   100.0\nsalesman        75.000000  25.000000   100.0\nscientist       90.322581   9.677419   100.0\nstudent         69.387755  30.612245   100.0\ntechnician      96.296296   3.703704   100.0\nwriter          57.777778  42.222222   100.0"
     },
     "execution_count": 31,
     "metadata": {},
     "output_type": "execute_result"
    }
   ],
   "source": [
    "def persentase(x):\n",
    "    return (x/x.sum())\n",
    "\n",
    "new_df2 = pd.crosstab(df['occupation'], df['gender']).apply(persentase, axis= 1) *100\n",
    "new_df2['%total'] = new_df2['F']+new_df2['M']\n",
    "new_df2.rename(columns={\"F\":\"%female\",\"M\":\"%male\"},inplace=True)\n",
    "new_df2[[\"%male\",\"%female\",\"%total\"]]"
   ]
  },
  {
   "cell_type": "code",
   "execution_count": null,
   "metadata": {},
   "outputs": [],
   "source": []
  }
 ]
}